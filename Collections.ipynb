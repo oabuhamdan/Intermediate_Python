{
 "cells": [
  {
   "cell_type": "code",
   "execution_count": 22,
   "metadata": {
    "collapsed": true
   },
   "outputs": [
    {
     "name": "stdout",
     "output_type": "stream",
     "text": [
      "Counter({'a': 3, 'b': 2, 'c': 2, '1': 1, '2': 1, '3': 1, '4': 1})\n",
      "[('a', 3)]\n"
     ]
    }
   ],
   "source": [
    "# counter\n",
    "from collections import Counter\n",
    "\n",
    "# container counts values and the results is dict of elements counts\n",
    "a = \"bbccaaa1234\"\n",
    "my_counter = Counter(a)\n",
    "print(my_counter)\n",
    "print(my_counter.most_common(1))"
   ]
  },
  {
   "cell_type": "code",
   "execution_count": 31,
   "outputs": [
    {
     "name": "stdout",
     "output_type": "stream",
     "text": [
      "Point(x=1, y=4, z=3)\n",
      "1 4 3\n",
      "1 4 3\n"
     ]
    }
   ],
   "source": [
    "# namedtuple\n",
    "from collections import namedtuple\n",
    "\n",
    "Point = namedtuple('Point', 'x,y,z')\n",
    "pt = Point(1, 4, 3)\n",
    "print(pt)\n",
    "x, y, z = pt\n",
    "print(x, y, z)\n",
    "print(pt.x, pt.y, pt.z)"
   ],
   "metadata": {
    "collapsed": false,
    "pycharm": {
     "name": "#%%\n"
    }
   }
  },
  {
   "cell_type": "code",
   "execution_count": 2,
   "outputs": [
    {
     "name": "stdout",
     "output_type": "stream",
     "text": [
      "OrderedDict([('a', 1), ('b', 2), ('c', 2)])\n"
     ]
    }
   ],
   "source": [
    "from collections import OrderedDict\n",
    "\n",
    "# A dict that remember the order of\n",
    "# items addition\n",
    "order_dict = OrderedDict()\n",
    "order_dict['a'] = 1\n",
    "order_dict['b'] = 2\n",
    "order_dict['c'] = 2\n",
    "print(order_dict)\n",
    "# Since python 3.6 this is default"
   ],
   "metadata": {
    "collapsed": false,
    "pycharm": {
     "name": "#%%\n"
    }
   }
  },
  {
   "cell_type": "code",
   "execution_count": 3,
   "outputs": [
    {
     "name": "stdout",
     "output_type": "stream",
     "text": [
      "1\n",
      "0\n"
     ]
    }
   ],
   "source": [
    "from collections import defaultdict\n",
    "\n",
    "# it will have a default for\n",
    "# a key with no val\n",
    "d = defaultdict(int)\n",
    "d[\"a\"] = 1\n",
    "d[\"b\"] = 2\n",
    "print(d['a'])\n",
    "# This will print Zero\n",
    "print(d['c'])\n",
    "\n",
    "\n"
   ],
   "metadata": {
    "collapsed": false,
    "pycharm": {
     "name": "#%%\n"
    }
   }
  },
  {
   "cell_type": "code",
   "execution_count": null,
   "outputs": [],
   "source": [],
   "metadata": {
    "collapsed": false,
    "pycharm": {
     "name": "#%%\n"
    }
   }
  }
 ],
 "metadata": {
  "kernelspec": {
   "display_name": "Python 3",
   "language": "python",
   "name": "python3"
  },
  "language_info": {
   "codemirror_mode": {
    "name": "ipython",
    "version": 2
   },
   "file_extension": ".py",
   "mimetype": "text/x-python",
   "name": "python",
   "nbconvert_exporter": "python",
   "pygments_lexer": "ipython2",
   "version": "2.7.6"
  }
 },
 "nbformat": 4,
 "nbformat_minor": 0
}