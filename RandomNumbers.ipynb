{
 "cells": [
  {
   "cell_type": "code",
   "execution_count": 6,
   "metadata": {
    "collapsed": true
   },
   "outputs": [
    {
     "name": "stdout",
     "output_type": "stream",
     "text": [
      "0.5611869495030746\n",
      "4.723356860518483\n",
      "9\n",
      "12\n"
     ]
    }
   ],
   "source": [
    "import random\n",
    "\n",
    "# generate sudo random numbers (seems random but can be reproducible)\n",
    "a = random.random()\n",
    "print(a)\n",
    "#start and stop\n",
    "a = random.uniform(1, 5)\n",
    "print(a)\n",
    "# int from start and stop (end included)\n",
    "a = random.randint(1, 15)\n",
    "print(a)\n",
    "# int from start and stop (end exluded)\n",
    "a = random.randrange(1, 15)\n",
    "print(a)"
   ]
  },
  {
   "cell_type": "code",
   "execution_count": 7,
   "outputs": [
    {
     "name": "stdout",
     "output_type": "stream",
     "text": [
      "0.8446009378824543\n"
     ]
    }
   ],
   "source": [
    "# pick a random of mean 0 and SD 1\n",
    "a = random.normalvariate(0, 1)\n",
    "print(a)"
   ],
   "metadata": {
    "collapsed": false,
    "pycharm": {
     "name": "#%%\n"
    }
   }
  },
  {
   "cell_type": "code",
   "execution_count": 9,
   "outputs": [
    {
     "name": "stdout",
     "output_type": "stream",
     "text": [
      "K\n"
     ]
    }
   ],
   "source": [
    "# choose one element from a list\n",
    "my_list = list(\"ASHGGHFJGHKJ\")\n",
    "c = random.choice(my_list)\n",
    "print(c)"
   ],
   "metadata": {
    "collapsed": false,
    "pycharm": {
     "name": "#%%\n"
    }
   }
  },
  {
   "cell_type": "code",
   "execution_count": 12,
   "outputs": [
    {
     "name": "stdout",
     "output_type": "stream",
     "text": [
      "['K', 'H', 'G']\n"
     ]
    }
   ],
   "source": [
    "# choose unique elements from a list\n",
    "my_list = list(\"ASHGGHFJGHKJ\")\n",
    "c = random.sample(my_list, 3)\n",
    "print(c)"
   ],
   "metadata": {
    "collapsed": false,
    "pycharm": {
     "name": "#%%\n"
    }
   }
  },
  {
   "cell_type": "code",
   "execution_count": 22,
   "outputs": [
    {
     "name": "stdout",
     "output_type": "stream",
     "text": [
      "['H', 'S', 'K']\n",
      "['J', 'F', 'K']\n"
     ]
    }
   ],
   "source": [
    "# choose elements from a list (not unique)\n",
    "my_list = list(\"ASHGGHFJGHKJ\")\n",
    "#k= #of choices\n",
    "c = random.choices(my_list, k=3)\n",
    "print(c)\n",
    "#and you can even assign weights\n",
    "c = random.choices(my_list, k=3, weights=[1, 2, 3, 4, 5, 6, 7, 8, 9, 10, 11, 12])\n",
    "print(c)\n"
   ],
   "metadata": {
    "collapsed": false,
    "pycharm": {
     "name": "#%%\n"
    }
   }
  },
  {
   "cell_type": "code",
   "execution_count": 25,
   "outputs": [
    {
     "name": "stdout",
     "output_type": "stream",
     "text": [
      "['G', 'H', 'J', 'G', 'H', 'A', 'J', 'G', 'K', 'H', 'F', 'S']\n"
     ]
    }
   ],
   "source": [
    "# shuffle list in place\n",
    "random.shuffle(my_list)\n",
    "print(my_list)"
   ],
   "metadata": {
    "collapsed": false,
    "pycharm": {
     "name": "#%%\n"
    }
   }
  },
  {
   "cell_type": "code",
   "execution_count": 27,
   "outputs": [
    {
     "name": "stdout",
     "output_type": "stream",
     "text": [
      "0.13436424411240122\n",
      "0.13436424411240122\n"
     ]
    }
   ],
   "source": [
    "# you can set a seed to make the random number always appear\n",
    "random.seed(1)\n",
    "print(random.random())\n",
    "random.seed(1)\n",
    "print(random.random())"
   ],
   "metadata": {
    "collapsed": false,
    "pycharm": {
     "name": "#%%\n"
    }
   }
  },
  {
   "cell_type": "code",
   "execution_count": 30,
   "outputs": [
    {
     "name": "stdout",
     "output_type": "stream",
     "text": [
      "2\n",
      "5\n",
      "G\n"
     ]
    }
   ],
   "source": [
    "# since it's not safe to use random for security purpose,\n",
    "# we can't use it simply for secure programs, so we use secrets\n",
    "import secrets\n",
    "# Disadvantage of it that it takes more time, but it generates a true random number\n",
    "# Exclusive upper bound\n",
    "a = secrets.randbelow(10)\n",
    "print(a)\n",
    "# Return int with K binary bits\n",
    "# 3 bits make the upper bound 15\n",
    "a = secrets.randbits(4)\n",
    "print(a)\n",
    "# Chooses randomly from a list\n",
    "a = secrets.choice(my_list)\n",
    "print(a)"
   ],
   "metadata": {
    "collapsed": false,
    "pycharm": {
     "name": "#%%\n"
    }
   }
  },
  {
   "cell_type": "code",
   "execution_count": 37,
   "outputs": [
    {
     "name": "stdout",
     "output_type": "stream",
     "text": [
      "[[4.17022005e-01 7.20324493e-01 1.14374817e-04]\n",
      " [3.02332573e-01 1.46755891e-01 9.23385948e-02]\n",
      " [1.86260211e-01 3.45560727e-01 3.96767474e-01]]\n",
      "[4 2 5]\n"
     ]
    }
   ],
   "source": [
    "# use numpy to create a true random arrays\n",
    "import numpy as np\n",
    "# 3,3 are dimensions\n",
    "a = np.random.rand(3,3)\n",
    "print(a)\n",
    "# range (upper is excluded)\n",
    "# 0,10 are bounds, 3 is for the count of numbers\n",
    "a = np.random.randint(0,10, 3)\n",
    "# shuffle shuffles only the first axis\n",
    "np.random.shuffle(a)\n",
    "print(a)\n",
    "\n",
    "# seed\n",
    "np.random.seed(1)"
   ],
   "metadata": {
    "collapsed": false,
    "pycharm": {
     "name": "#%%\n"
    }
   }
  },
  {
   "cell_type": "code",
   "execution_count": null,
   "outputs": [],
   "source": [],
   "metadata": {
    "collapsed": false,
    "pycharm": {
     "name": "#%%\n"
    }
   }
  }
 ],
 "metadata": {
  "kernelspec": {
   "display_name": "Python 3",
   "language": "python",
   "name": "python3"
  },
  "language_info": {
   "codemirror_mode": {
    "name": "ipython",
    "version": 2
   },
   "file_extension": ".py",
   "mimetype": "text/x-python",
   "name": "python",
   "nbconvert_exporter": "python",
   "pygments_lexer": "ipython2",
   "version": "2.7.6"
  }
 },
 "nbformat": 4,
 "nbformat_minor": 0
}