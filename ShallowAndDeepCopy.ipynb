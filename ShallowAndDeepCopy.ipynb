{
 "cells": [
  {
   "cell_type": "code",
   "execution_count": 1,
   "metadata": {
    "collapsed": true
   },
   "outputs": [
    {
     "name": "stdout",
     "output_type": "stream",
     "text": [
      "5\n",
      "6\n"
     ]
    }
   ],
   "source": [
    "# primitive types are always independent\n",
    "org = 5\n",
    "cpy = org\n",
    "cpy = 6\n",
    "print(org)\n",
    "print(cpy)\n"
   ]
  },
  {
   "cell_type": "code",
   "execution_count": 3,
   "outputs": [
    {
     "name": "stdout",
     "output_type": "stream",
     "text": [
      "[1, 2, 3, 10]\n",
      "[1, 2, 3, 10]\n"
     ]
    }
   ],
   "source": [
    "# in lists and data structs, we are assigning new references only\n",
    "org_list = [1, 2, 3]\n",
    "cpy_list = org_list\n",
    "cpy_list.append(10)\n",
    "print(org_list)\n",
    "print(cpy_list)"
   ],
   "metadata": {
    "collapsed": false,
    "pycharm": {
     "name": "#%%\n"
    }
   }
  },
  {
   "cell_type": "code",
   "execution_count": 9,
   "outputs": [
    {
     "name": "stdout",
     "output_type": "stream",
     "text": [
      "[1, 2, 3]\n",
      "[1, 2, 3, 10]\n",
      "org [[1, 2, 1], [3, 4]]\n",
      "cpy [[1, 2, 1], [3, 4]]\n"
     ]
    }
   ],
   "source": [
    "# shallow copy (one level of copying)\n",
    "org_list = [1, 2, 3]\n",
    "# multiple ways\n",
    "import copy\n",
    "\n",
    "cpy_list = org_list.copy()\n",
    "cpy_list = copy.copy(org_list)\n",
    "cpy_list = list(org_list)\n",
    "cpy_list = org_list[:]  # slicing\n",
    "cpy_list.append(10)\n",
    "print(org_list)\n",
    "print(cpy_list)\n",
    "\n",
    "# breaking shallow copies\n",
    "deep_list = [[1, 2], [3, 4]]\n",
    "deep_list_cpy = deep_list.copy()\n",
    "deep_list_cpy[0].append(1)\n",
    "print(f\"org {deep_list}\")\n",
    "print(f\"cpy {deep_list_cpy}\")"
   ],
   "metadata": {
    "collapsed": false,
    "pycharm": {
     "name": "#%%\n"
    }
   }
  },
  {
   "cell_type": "code",
   "execution_count": 10,
   "outputs": [
    {
     "name": "stdout",
     "output_type": "stream",
     "text": [
      "org [[1, 2], [3, 4]]\n",
      "cpy [[1, 2, 1], [3, 4]]\n"
     ]
    }
   ],
   "source": [
    "# deep copy\n",
    "import copy\n",
    "\n",
    "deep_list = [[1, 2], [3, 4]]\n",
    "deep_list_cpy = copy.deepcopy(deep_list)  # can be used with classes too\n",
    "deep_list_cpy[0].append(1)\n",
    "print(f\"org {deep_list}\")\n",
    "print(f\"cpy {deep_list_cpy}\")"
   ],
   "metadata": {
    "collapsed": false,
    "pycharm": {
     "name": "#%%\n"
    }
   }
  },
  {
   "cell_type": "code",
   "execution_count": null,
   "outputs": [],
   "source": [],
   "metadata": {
    "collapsed": false,
    "pycharm": {
     "name": "#%%\n"
    }
   }
  }
 ],
 "metadata": {
  "kernelspec": {
   "display_name": "Python 3",
   "language": "python",
   "name": "python3"
  },
  "language_info": {
   "codemirror_mode": {
    "name": "ipython",
    "version": 2
   },
   "file_extension": ".py",
   "mimetype": "text/x-python",
   "name": "python",
   "nbconvert_exporter": "python",
   "pygments_lexer": "ipython2",
   "version": "2.7.6"
  }
 },
 "nbformat": 4,
 "nbformat_minor": 0
}