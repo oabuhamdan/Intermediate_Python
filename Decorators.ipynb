{
 "cells": [
  {
   "cell_type": "code",
   "execution_count": 60,
   "metadata": {
    "collapsed": true
   },
   "outputs": [
    {
     "name": "stdout",
     "output_type": "stream",
     "text": [
      "OsamaAbuHamdan\n"
     ]
    }
   ],
   "source": [
    "# Function Decorators and Class Decorators\n",
    "# A decorator is a function that extends\n",
    "# another function's behavior\n",
    "def trim_spaces_decorator(func):\n",
    "    # *args to get the args of func\n",
    "    # should define wrapper and return it in the main function\n",
    "    def wrapper(*args, **kwargs):\n",
    "        # edit the first argument to remove spaces\n",
    "        new_args = (args[0].replace(' ', ''),)\n",
    "        # call the decorated function with the args after being edited\n",
    "        func(*new_args, **kwargs)\n",
    "\n",
    "    return wrapper\n",
    "\n",
    "\n",
    "@trim_spaces_decorator\n",
    "def print_name(name):\n",
    "    print(name)\n",
    "\n",
    "\n",
    "print_name(\"Osama Abu Hamdan\")"
   ]
  },
  {
   "cell_type": "code",
   "execution_count": 61,
   "outputs": [
    {
     "name": "stdout",
     "output_type": "stream",
     "text": [
      "Before rounding: 1.5\n",
      "After rounding: 2\n"
     ]
    }
   ],
   "source": [
    "def round_decorator(func):\n",
    "    def wrapper(*args, **kwargs):\n",
    "        result = func(*args, **kwargs)\n",
    "        # returning the result in the wrapper\n",
    "        # to catch it in the caller's place\n",
    "        if result - int(result) >= 0.5:\n",
    "            return int(result) + 1\n",
    "        else:\n",
    "            return int(result)\n",
    "\n",
    "    return wrapper\n",
    "\n",
    "\n",
    "@round_decorator\n",
    "def divide(x, y):\n",
    "    print(f\"Before rounding: {x / y}\")\n",
    "    return x / y\n",
    "\n",
    "\n",
    "print(f\"After rounding: {divide(6, 4)}\")"
   ],
   "metadata": {
    "collapsed": false,
    "pycharm": {
     "name": "#%%\n"
    }
   }
  },
  {
   "cell_type": "code",
   "execution_count": 62,
   "outputs": [
    {
     "name": "stdout",
     "output_type": "stream",
     "text": [
      "wrapper\n"
     ]
    }
   ],
   "source": [
    "# Python now confuses between your function and the wrapper\n",
    "print(divide.__name__)\n"
   ],
   "metadata": {
    "collapsed": false,
    "pycharm": {
     "name": "#%%\n"
    }
   }
  },
  {
   "cell_type": "code",
   "execution_count": 63,
   "outputs": [
    {
     "name": "stdout",
     "output_type": "stream",
     "text": [
      "divide\n"
     ]
    }
   ],
   "source": [
    "# How to fix this? using functools\n",
    "import functools\n",
    "\n",
    "\n",
    "def round_decorator(func):\n",
    "    @functools.wraps(func)\n",
    "    def wrapper(*args, **kwargs):\n",
    "        print(\"in round\")\n",
    "        result = func(*args, **kwargs)\n",
    "        if result - int(result) >= 0.5:\n",
    "            return int(result) + 1\n",
    "        else:\n",
    "            return int(result)\n",
    "\n",
    "    return wrapper\n",
    "\n",
    "\n",
    "@round_decorator\n",
    "def divide(x, y):\n",
    "    print(f\"Before rounding: {x / y}\")\n",
    "    return x / y\n",
    "\n",
    "\n",
    "print(divide.__name__)"
   ],
   "metadata": {
    "collapsed": false,
    "pycharm": {
     "name": "#%%\n"
    }
   }
  },
  {
   "cell_type": "code",
   "execution_count": 64,
   "outputs": [
    {
     "name": "stdout",
     "output_type": "stream",
     "text": [
      "in repeat\n",
      "Osama\n",
      "Osama\n",
      "Osama\n",
      "Osama\n",
      "Osama\n",
      "\n"
     ]
    }
   ],
   "source": [
    "# Decorators with argument\n",
    "def repeat_on_newline(num_times):\n",
    "    def decorator_repeat(func):\n",
    "        def wrapper(*args, **kwargs):\n",
    "            print(\"in repeat\")\n",
    "            result = str(func(*args, **kwargs)) + '\\n'\n",
    "            return result * num_times  ## to be used in the caller's place\n",
    "\n",
    "        return wrapper  # to use used in the function as a caller\n",
    "    return decorator_repeat  # to be used with the argument in the decorator\n",
    "\n",
    "\n",
    "@repeat_on_newline(5)\n",
    "def get_string_from_user():\n",
    "    string = input(\"Enter a string please: \")\n",
    "    return string\n",
    "\n",
    "\n",
    "print(get_string_from_user())"
   ],
   "metadata": {
    "collapsed": false,
    "pycharm": {
     "name": "#%%\n"
    }
   }
  },
  {
   "cell_type": "code",
   "execution_count": 65,
   "outputs": [
    {
     "name": "stdout",
     "output_type": "stream",
     "text": [
      "in repeat\n",
      "in round\n",
      "3\n",
      "3\n",
      "3\n",
      "3\n",
      "3\n",
      "\n"
     ]
    }
   ],
   "source": [
    "#Multiply multiple decorators is possible\n",
    "# They will be applied in order\n",
    "\n",
    "@repeat_on_newline(5)\n",
    "@round_decorator\n",
    "def divide_and_repeat(x, y):\n",
    "    return x / y\n",
    "\n",
    "\n",
    "print(divide_and_repeat(10, 3))"
   ],
   "metadata": {
    "collapsed": false,
    "pycharm": {
     "name": "#%%\n"
    }
   }
  },
  {
   "cell_type": "code",
   "execution_count": null,
   "outputs": [],
   "source": [
    "# Class decorators used in the same way of\n",
    "# function Decorator\n",
    "# Used to track a status"
   ],
   "metadata": {
    "collapsed": false,
    "pycharm": {
     "name": "#%%\n"
    }
   }
  }
 ],
 "metadata": {
  "kernelspec": {
   "display_name": "Python 3",
   "language": "python",
   "name": "python3"
  },
  "language_info": {
   "codemirror_mode": {
    "name": "ipython",
    "version": 2
   },
   "file_extension": ".py",
   "mimetype": "text/x-python",
   "name": "python",
   "nbconvert_exporter": "python",
   "pygments_lexer": "ipython2",
   "version": "2.7.6"
  }
 },
 "nbformat": 4,
 "nbformat_minor": 0
}