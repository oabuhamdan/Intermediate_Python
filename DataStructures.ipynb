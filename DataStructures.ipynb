{
 "cells": [
  {
   "cell_type": "code",
   "execution_count": 52,
   "metadata": {
    "collapsed": true
   },
   "outputs": [
    {
     "name": "stdout",
     "output_type": "stream",
     "text": [
      "1\n",
      "Printing the last item by writing list[-1]\n",
      "8\n"
     ]
    }
   ],
   "source": [
    "#### Arrays ####\n",
    "my_list = [1, 2, 3, 6, 7, 8]\n",
    "print(my_list[0])\n",
    "print(\"Printing the last item by writing list[-1]\")\n",
    "print(my_list[-1])"
   ]
  },
  {
   "cell_type": "code",
   "execution_count": 50,
   "outputs": [
    {
     "name": "stdout",
     "output_type": "stream",
     "text": [
      "1,2,2,6,7,8,"
     ]
    }
   ],
   "source": [
    "for i in my_list:\n",
    "    print(i, end=',')"
   ],
   "metadata": {
    "collapsed": false,
    "pycharm": {
     "name": "#%%\n"
    }
   }
  },
  {
   "cell_type": "code",
   "execution_count": 30,
   "outputs": [
    {
     "name": "stdout",
     "output_type": "stream",
     "text": [
      "[1, 2, 3, 6, 7, 8, 2]\n"
     ]
    }
   ],
   "source": [
    "#Appending to last\n",
    "my_list.append(2)\n",
    "print(my_list)"
   ],
   "metadata": {
    "collapsed": false,
    "pycharm": {
     "name": "#%%\n"
    }
   }
  },
  {
   "cell_type": "code",
   "execution_count": 31,
   "outputs": [
    {
     "name": "stdout",
     "output_type": "stream",
     "text": [
      "[1, 2, 2, 3, 6, 7, 8, 2]\n"
     ]
    }
   ],
   "source": [
    "#Add to an index\n",
    "my_list.insert(2, 2)\n",
    "print(my_list)"
   ],
   "metadata": {
    "collapsed": false,
    "pycharm": {
     "name": "#%%\n"
    }
   }
  },
  {
   "cell_type": "code",
   "execution_count": 32,
   "outputs": [
    {
     "name": "stdout",
     "output_type": "stream",
     "text": [
      "[1, 2, 2, 3, 6, 7, 8]\n"
     ]
    }
   ],
   "source": [
    "#removes the last item in the list\n",
    "my_list.pop()\n",
    "print(my_list)"
   ],
   "metadata": {
    "collapsed": false,
    "pycharm": {
     "name": "#%%\n"
    }
   }
  },
  {
   "cell_type": "code",
   "execution_count": 33,
   "outputs": [
    {
     "name": "stdout",
     "output_type": "stream",
     "text": [
      "[1, 2, 2, 6, 7, 8]\n"
     ]
    }
   ],
   "source": [
    "#removes a specific item\n",
    "my_list.remove(3)\n",
    "print(my_list)"
   ],
   "metadata": {
    "collapsed": false,
    "pycharm": {
     "name": "#%%\n"
    }
   }
  },
  {
   "cell_type": "code",
   "execution_count": 34,
   "outputs": [],
   "source": [
    "#to sort list in place\n",
    "my_list.sort()\n",
    "# to clear your list\n",
    "#my_list.clear()"
   ],
   "metadata": {
    "collapsed": false,
    "pycharm": {
     "name": "#%%\n"
    }
   }
  },
  {
   "cell_type": "code",
   "execution_count": 35,
   "outputs": [
    {
     "name": "stdout",
     "output_type": "stream",
     "text": [
      "[1, 2, 2, 6, 7, 8]\n"
     ]
    }
   ],
   "source": [
    "# to sort list but copy the result to a new list\n",
    "sorted_list = sorted(my_list)\n",
    "print(sorted_list)"
   ],
   "metadata": {
    "collapsed": false,
    "pycharm": {
     "name": "#%%\n"
    }
   }
  },
  {
   "cell_type": "code",
   "execution_count": 36,
   "outputs": [
    {
     "name": "stdout",
     "output_type": "stream",
     "text": [
      "[0, 0, 0, 0, 0]\n"
     ]
    }
   ],
   "source": [
    "# to create list with multiple same items\n",
    "my_list2 = [0] * 5\n",
    "print(my_list2)"
   ],
   "metadata": {
    "collapsed": false,
    "pycharm": {
     "name": "#%%\n"
    }
   }
  },
  {
   "cell_type": "code",
   "execution_count": 37,
   "outputs": [
    {
     "name": "stdout",
     "output_type": "stream",
     "text": [
      "[1, 2, 2, 6, 7, 8, 0, 0, 0, 0, 0]\n"
     ]
    }
   ],
   "source": [
    "# concat list easily with +\n",
    "print(my_list + my_list2)"
   ],
   "metadata": {
    "collapsed": false,
    "pycharm": {
     "name": "#%%\n"
    }
   }
  },
  {
   "cell_type": "code",
   "execution_count": 44,
   "outputs": [
    {
     "name": "stdout",
     "output_type": "stream",
     "text": [
      "[2, 2, 6, 7]\n",
      "[2, 6, 8]\n",
      "[8, 7, 6, 2]\n",
      "[8, 7, 6, 2, 2, 1]\n"
     ]
    }
   ],
   "source": [
    "# slicing\n",
    "print(my_list[1:5])\n",
    "# slicing with step index\n",
    "print(my_list[1:7:2])\n",
    "# you can use negative step too\n",
    "print(my_list[5:1:-1])\n",
    "# a trick to reverse your list\n",
    "print(my_list[::-1])"
   ],
   "metadata": {
    "collapsed": false,
    "pycharm": {
     "name": "#%%\n"
    }
   }
  },
  {
   "cell_type": "code",
   "execution_count": 47,
   "outputs": [],
   "source": [
    "# to copy list contents we have three ways\n",
    "list_copy = my_list.copy()\n",
    "list_copy2 = list(my_list)\n",
    "list_copy3 = my_list[:]"
   ],
   "metadata": {
    "collapsed": false,
    "pycharm": {
     "name": "#%%\n"
    }
   }
  },
  {
   "cell_type": "code",
   "execution_count": 51,
   "outputs": [
    {
     "name": "stdout",
     "output_type": "stream",
     "text": [
      "[1, 4, 4, 36, 49, 64]\n"
     ]
    }
   ],
   "source": [
    "# list comprehension\n",
    "my_list_squared = [i * i for i in my_list]\n",
    "print(my_list_squared)"
   ],
   "metadata": {
    "collapsed": false,
    "pycharm": {
     "name": "#%%\n"
    }
   }
  },
  {
   "cell_type": "code",
   "execution_count": 53,
   "outputs": [],
   "source": [
    "#### Tuples ####"
   ],
   "metadata": {
    "collapsed": false,
    "pycharm": {
     "name": "#%%\n"
    }
   }
  },
  {
   "cell_type": "code",
   "execution_count": 54,
   "outputs": [
    {
     "name": "stdout",
     "output_type": "stream",
     "text": [
      "('Max', 'Min', 1)\n"
     ]
    }
   ],
   "source": [
    "# Tuple is immutable\n",
    "# parenthesis are not mandatory in tuples\n",
    "my_tuple = (\"Max\", \"Min\", 1)\n",
    "print(my_tuple)"
   ],
   "metadata": {
    "collapsed": false,
    "pycharm": {
     "name": "#%%\n"
    }
   }
  },
  {
   "cell_type": "code",
   "execution_count": 56,
   "outputs": [
    {
     "name": "stdout",
     "output_type": "stream",
     "text": [
      "<class 'str'>\n",
      "<class 'tuple'>\n"
     ]
    }
   ],
   "source": [
    "# one element tuple should end with a comma\n",
    "one_element_tuple = (\"One\")\n",
    "print(type(one_element_tuple))\n",
    "one_element_tuple = (\"One\",)\n",
    "print(type(one_element_tuple))"
   ],
   "metadata": {
    "collapsed": false,
    "pycharm": {
     "name": "#%%\n"
    }
   }
  },
  {
   "cell_type": "code",
   "execution_count": 61,
   "outputs": [
    {
     "name": "stdout",
     "output_type": "stream",
     "text": [
      "(1, 2, 2, 2, 3)\n"
     ]
    }
   ],
   "source": [
    "# create tuple of iterable\n",
    "my_tuple = tuple([1, 2, 2, 2, 3])\n",
    "print(my_tuple)"
   ],
   "metadata": {
    "collapsed": false,
    "pycharm": {
     "name": "#%%\n"
    }
   }
  },
  {
   "cell_type": "code",
   "execution_count": 62,
   "outputs": [
    {
     "name": "stdout",
     "output_type": "stream",
     "text": [
      "2\n"
     ]
    }
   ],
   "source": [
    "# tuple is indexable by square brackets too\n",
    "print(my_tuple[1])"
   ],
   "metadata": {
    "collapsed": false,
    "pycharm": {
     "name": "#%%\n"
    }
   }
  },
  {
   "cell_type": "code",
   "execution_count": 63,
   "outputs": [
    {
     "name": "stdout",
     "output_type": "stream",
     "text": [
      "True\n"
     ]
    }
   ],
   "source": [
    "# check things inside tuple\n",
    "print(2 in my_tuple)"
   ],
   "metadata": {
    "collapsed": false,
    "pycharm": {
     "name": "#%%\n"
    }
   }
  },
  {
   "cell_type": "code",
   "execution_count": 64,
   "outputs": [
    {
     "name": "stdout",
     "output_type": "stream",
     "text": [
      "3\n"
     ]
    }
   ],
   "source": [
    "#count elements inside a tuple\n",
    "print(my_tuple.count(2))"
   ],
   "metadata": {
    "collapsed": false,
    "pycharm": {
     "name": "#%%\n"
    }
   }
  },
  {
   "cell_type": "code",
   "execution_count": 66,
   "outputs": [
    {
     "name": "stdout",
     "output_type": "stream",
     "text": [
      "4\n"
     ]
    }
   ],
   "source": [
    "# get index of an element\n",
    "print(my_tuple.index(3))"
   ],
   "metadata": {
    "collapsed": false,
    "pycharm": {
     "name": "#%%\n"
    }
   }
  },
  {
   "cell_type": "code",
   "execution_count": 67,
   "outputs": [],
   "source": [
    "# slicing of tuple is same as in arrays"
   ],
   "metadata": {
    "collapsed": false,
    "pycharm": {
     "name": "#%%\n"
    }
   }
  },
  {
   "cell_type": "code",
   "execution_count": 69,
   "outputs": [
    {
     "name": "stdout",
     "output_type": "stream",
     "text": [
      "('x', 'y', 'z', 'w')\n",
      "x y z w\n"
     ]
    }
   ],
   "source": [
    "# unpacking a tuple\n",
    "my_tuple3 = \"x\", \"y\", \"z\", \"w\"\n",
    "x, y, z, w = my_tuple3\n",
    "print(my_tuple3)\n",
    "print(x, y, z, w)"
   ],
   "metadata": {
    "collapsed": false,
    "pycharm": {
     "name": "#%%\n"
    }
   }
  },
  {
   "cell_type": "code",
   "execution_count": 72,
   "outputs": [
    {
     "name": "stdout",
     "output_type": "stream",
     "text": [
      "1 [2, 2] 3 4\n"
     ]
    }
   ],
   "source": [
    "# unpacking with star\n",
    "# element with * will become a list\n",
    "my_tuple4 = 1, 2, 2, 3, 4\n",
    "i1, *i2, i3, i4 = my_tuple4\n",
    "print(i1, i2, i3, i4)"
   ],
   "metadata": {
    "collapsed": false,
    "pycharm": {
     "name": "#%%\n"
    }
   }
  },
  {
   "cell_type": "code",
   "execution_count": 73,
   "outputs": [],
   "source": [
    "# since tuple is immutable, python makes some efficiencies on it.\n",
    "# so working with tuple may be better for large input sizes"
   ],
   "metadata": {
    "collapsed": false,
    "pycharm": {
     "name": "#%%\n"
    }
   }
  },
  {
   "cell_type": "code",
   "execution_count": 74,
   "outputs": [],
   "source": [
    "#### Dictionaries ####"
   ],
   "metadata": {
    "collapsed": false,
    "pycharm": {
     "name": "#%%\n"
    }
   }
  },
  {
   "cell_type": "code",
   "execution_count": 76,
   "outputs": [
    {
     "name": "stdout",
     "output_type": "stream",
     "text": [
      "{1: 'one', 2: 'two'}\n"
     ]
    }
   ],
   "source": [
    "my_dict = {\n",
    "    1: \"one\",\n",
    "    2: \"two\"\n",
    "}\n",
    "print(my_dict)"
   ],
   "metadata": {
    "collapsed": false,
    "pycharm": {
     "name": "#%%\n"
    }
   }
  },
  {
   "cell_type": "code",
   "execution_count": 98,
   "outputs": [
    {
     "name": "stdout",
     "output_type": "stream",
     "text": [
      "{'one': 1, 'two': 2, 'three': 3, 'four': 4}\n",
      "{1: 2, 3: 4}\n"
     ]
    }
   ],
   "source": [
    "my_dict2 = dict(one=1, two=2, three=3, four=4)\n",
    "my_dict3 = dict([(1, 2), (3, 4)])\n",
    "print(my_dict2)\n",
    "print(my_dict3)"
   ],
   "metadata": {
    "collapsed": false,
    "pycharm": {
     "name": "#%%\n"
    }
   }
  },
  {
   "cell_type": "code",
   "execution_count": 95,
   "outputs": [],
   "source": [
    "# dict is mutable"
   ],
   "metadata": {
    "collapsed": false,
    "pycharm": {
     "name": "#%%\n"
    }
   }
  },
  {
   "cell_type": "code",
   "execution_count": 96,
   "outputs": [
    {
     "name": "stdout",
     "output_type": "stream",
     "text": [
      "2\n",
      "('four', 4)\n"
     ]
    }
   ],
   "source": [
    "# to delete a key-value pair from a dict\n",
    "del my_dict2[\"one\"]\n",
    "# or to pop a value of a certain key\n",
    "value = my_dict2.pop(\"two\")\n",
    "print(value)\n",
    "# or to pop the last item as a tuple of (key,value)\n",
    "value2 = my_dict2.popitem()\n",
    "print(value2)"
   ],
   "metadata": {
    "collapsed": false,
    "pycharm": {
     "name": "#%%\n"
    }
   }
  },
  {
   "cell_type": "code",
   "execution_count": 96,
   "outputs": [],
   "source": [
    "# Loop through dict"
   ],
   "metadata": {
    "collapsed": false,
    "pycharm": {
     "name": "#%%\n"
    }
   }
  },
  {
   "cell_type": "code",
   "execution_count": 100,
   "outputs": [
    {
     "name": "stdout",
     "output_type": "stream",
     "text": [
      "one\n",
      "two\n",
      "three\n",
      "four\n",
      "1\n",
      "2\n",
      "3\n",
      "4\n",
      "one : 1\n",
      "two : 2\n",
      "three : 3\n",
      "four : 4\n"
     ]
    }
   ],
   "source": [
    "for key in my_dict2:\n",
    "    print(key)\n",
    "for value in my_dict2.values():\n",
    "    print(value)\n",
    "for key, value in my_dict2.items():\n",
    "    print(key, \":\", value)"
   ],
   "metadata": {
    "collapsed": false,
    "pycharm": {
     "name": "#%%\n"
    }
   }
  },
  {
   "cell_type": "code",
   "execution_count": 101,
   "outputs": [],
   "source": [
    "# copy dict\n",
    "cp_dict = my_dict2.copy()\n",
    "cp_dict2 = dict(my_dict2)"
   ],
   "metadata": {
    "collapsed": false,
    "pycharm": {
     "name": "#%%\n"
    }
   }
  },
  {
   "cell_type": "code",
   "execution_count": 103,
   "outputs": [
    {
     "name": "stdout",
     "output_type": "stream",
     "text": [
      "{'name': 'Osama', 'age': 24, 'city': 'reno'}\n"
     ]
    }
   ],
   "source": [
    "# merge two dicts\n",
    "# the same key-values are overwritten,\n",
    "# the other keys and values are added\n",
    "my_dict1 = dict(name=\"Osama\", age=27)\n",
    "my_dict2 = dict(city=\"reno\", age=24)\n",
    "my_dict1.update(my_dict2)\n",
    "print(my_dict1)"
   ],
   "metadata": {
    "collapsed": false,
    "pycharm": {
     "name": "#%%\n"
    }
   }
  },
  {
   "cell_type": "code",
   "execution_count": 104,
   "outputs": [
    {
     "name": "stdout",
     "output_type": "stream",
     "text": [
      "{(7, 8): 56, (6, 5): 30}\n"
     ]
    }
   ],
   "source": [
    "# key types: any immutable type:\n",
    "# int, string, tuple\n",
    "mul_dict = {(7, 8): 56, (6, 5): 30}\n",
    "print(mul_dict)\n"
   ],
   "metadata": {
    "collapsed": false,
    "pycharm": {
     "name": "#%%\n"
    }
   }
  },
  {
   "cell_type": "code",
   "execution_count": 105,
   "outputs": [],
   "source": [
    "#### Sets ####\n",
    "# mutable\n",
    "# unordered\n",
    "# not duplicates"
   ],
   "metadata": {
    "collapsed": false,
    "pycharm": {
     "name": "#%%\n"
    }
   }
  },
  {
   "cell_type": "code",
   "execution_count": 106,
   "outputs": [
    {
     "name": "stdout",
     "output_type": "stream",
     "text": [
      "{1, 2, 3}\n"
     ]
    }
   ],
   "source": [
    "my_set = {1, 2, 3}\n",
    "print(my_set)"
   ],
   "metadata": {
    "collapsed": false,
    "pycharm": {
     "name": "#%%\n"
    }
   }
  },
  {
   "cell_type": "code",
   "execution_count": 107,
   "outputs": [
    {
     "name": "stdout",
     "output_type": "stream",
     "text": [
      "{1, 2, 3}\n"
     ]
    }
   ],
   "source": [
    "my_set = {1, 2, 2, 3}\n",
    "print(my_set)"
   ],
   "metadata": {
    "collapsed": false,
    "pycharm": {
     "name": "#%%\n"
    }
   }
  },
  {
   "cell_type": "code",
   "execution_count": 125,
   "outputs": [
    {
     "name": "stdout",
     "output_type": "stream",
     "text": [
      "{1, 2, 3, 4}\n",
      "{'s', 'm', 'O', 'a'}\n"
     ]
    }
   ],
   "source": [
    "# set with iterables\n",
    "my_set = set([1, 2, 3, 3, 3, 4])\n",
    "print(my_set)\n",
    "string_set = set(\"Osama\")\n",
    "# note that the duplicate chars are removed\n",
    "print(string_set)"
   ],
   "metadata": {
    "collapsed": false,
    "pycharm": {
     "name": "#%%\n"
    }
   }
  },
  {
   "cell_type": "code",
   "execution_count": 126,
   "outputs": [
    {
     "name": "stdout",
     "output_type": "stream",
     "text": [
      "{1, 2, 3, 4, 5}\n"
     ]
    }
   ],
   "source": [
    "my_set.add(5)\n",
    "print(my_set)"
   ],
   "metadata": {
    "collapsed": false,
    "pycharm": {
     "name": "#%%\n"
    }
   }
  },
  {
   "cell_type": "code",
   "execution_count": 127,
   "outputs": [
    {
     "name": "stdout",
     "output_type": "stream",
     "text": [
      "{1, 2, 3, 4}\n"
     ]
    }
   ],
   "source": [
    "# remove method removes an element not an index\n",
    "# if the element is not there, error will be raised\n",
    "my_set.remove(5)\n",
    "print(my_set)"
   ],
   "metadata": {
    "collapsed": false,
    "pycharm": {
     "name": "#%%\n"
    }
   }
  },
  {
   "cell_type": "code",
   "execution_count": 128,
   "outputs": [
    {
     "name": "stdout",
     "output_type": "stream",
     "text": [
      "{1, 2, 3, 4}\n"
     ]
    }
   ],
   "source": [
    "# discard method discards the element\n",
    "# if the element is not there, nothing happens\n",
    "my_set.discard(5)\n",
    "print(my_set)"
   ],
   "metadata": {
    "collapsed": false,
    "pycharm": {
     "name": "#%%\n"
    }
   }
  },
  {
   "cell_type": "code",
   "execution_count": 129,
   "outputs": [],
   "source": [
    "# empty the set\n",
    "#my_set.clear()"
   ],
   "metadata": {
    "collapsed": false,
    "pycharm": {
     "name": "#%%\n"
    }
   }
  },
  {
   "cell_type": "code",
   "execution_count": 131,
   "outputs": [
    {
     "name": "stdout",
     "output_type": "stream",
     "text": [
      "2\n",
      "{3, 4}\n"
     ]
    }
   ],
   "source": [
    "# pop method removes a random element\n",
    "print(my_set.pop())\n",
    "print(my_set)"
   ],
   "metadata": {
    "collapsed": false,
    "pycharm": {
     "name": "#%%\n"
    }
   }
  },
  {
   "cell_type": "code",
   "execution_count": 136,
   "outputs": [
    {
     "name": "stdout",
     "output_type": "stream",
     "text": [
      "{0, 1, 2, 3, 4, 5, 6, 7, 8, 9}\n",
      "{3, 5, 7}\n",
      "{1, 9}\n",
      "{1, 2, 9}\n"
     ]
    }
   ],
   "source": [
    "# union and intersection\n",
    "odd_set = {1, 3, 5, 7, 9}\n",
    "even_set = {0, 2, 4, 6, 8}\n",
    "prime_set = {2, 3, 5, 7}\n",
    "union_set = odd_set.union(even_set)\n",
    "intersection_set = odd_set.intersection(prime_set)\n",
    "# difference returns set a set b\n",
    "diff_set = odd_set.difference(prime_set)\n",
    "# symmetric difference returns the elements not in intersection\n",
    "sym_diff_set = odd_set.symmetric_difference(prime_set)\n",
    "print(union_set)\n",
    "print(intersection_set)\n",
    "print(diff_set)\n",
    "print(sym_diff_set)\n"
   ],
   "metadata": {
    "collapsed": false,
    "pycharm": {
     "name": "#%%\n"
    }
   }
  },
  {
   "cell_type": "code",
   "execution_count": 134,
   "outputs": [],
   "source": [
    "## the above mentioned methods don't edit on place"
   ],
   "metadata": {
    "collapsed": false,
    "pycharm": {
     "name": "#%%\n"
    }
   }
  },
  {
   "cell_type": "code",
   "execution_count": 139,
   "outputs": [
    {
     "name": "stdout",
     "output_type": "stream",
     "text": [
      "{0, 1, 2, 3, 4, 5, 6, 7, 8, 9}\n",
      "{0, 1, 4, 6, 8, 9}\n"
     ]
    }
   ],
   "source": [
    "# update in place\n",
    "odd_set.update(even_set)\n",
    "print(odd_set)\n",
    "odd_set.difference_update(prime_set)\n",
    "print(odd_set)"
   ],
   "metadata": {
    "collapsed": false,
    "pycharm": {
     "name": "#%%\n"
    }
   }
  },
  {
   "cell_type": "code",
   "execution_count": 144,
   "outputs": [
    {
     "name": "stdout",
     "output_type": "stream",
     "text": [
      "False\n",
      "False\n",
      "False\n"
     ]
    }
   ],
   "source": [
    "# other boolean methods\n",
    "# subset: a elements are in b\n",
    "print(my_set.issubset(prime_set))\n",
    "# super set: b elements are in a\n",
    "print(my_set.issuperset(prime_set))\n",
    "# disjoint: intersections = 0\n",
    "print(my_set.isdisjoint(prime_set))"
   ],
   "metadata": {
    "collapsed": false,
    "pycharm": {
     "name": "#%%\n"
    }
   }
  },
  {
   "cell_type": "code",
   "execution_count": 145,
   "outputs": [
    {
     "name": "stdout",
     "output_type": "stream",
     "text": [
      "frozenset({1, 2, 3})\n"
     ]
    }
   ],
   "source": [
    "# immutable version of a set\n",
    "immutable_set = frozenset([1,2,3])\n",
    "print(immutable_set)\n"
   ],
   "metadata": {
    "collapsed": false,
    "pycharm": {
     "name": "#%%\n"
    }
   }
  },
  {
   "cell_type": "code",
   "execution_count": null,
   "outputs": [],
   "source": [],
   "metadata": {
    "collapsed": false,
    "pycharm": {
     "name": "#%%\n"
    }
   }
  }
 ],
 "metadata": {
  "kernelspec": {
   "display_name": "Python 3",
   "language": "python",
   "name": "python3"
  },
  "language_info": {
   "codemirror_mode": {
    "name": "ipython",
    "version": 2
   },
   "file_extension": ".py",
   "mimetype": "text/x-python",
   "name": "python",
   "nbconvert_exporter": "python",
   "pygments_lexer": "ipython2",
   "version": "2.7.6"
  }
 },
 "nbformat": 4,
 "nbformat_minor": 0
}