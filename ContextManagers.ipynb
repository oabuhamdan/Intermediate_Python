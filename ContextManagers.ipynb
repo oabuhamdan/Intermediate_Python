{
 "cells": [
  {
   "cell_type": "code",
   "execution_count": 2,
   "metadata": {
    "collapsed": true
   },
   "outputs": [],
   "source": [
    "# Allocate and release resources efficiently\n",
    "# Example:\n",
    "# Closes the file correctly after finishing\n",
    "with open('file.txt', 'w') as file:\n",
    "    file.write(\"Hi from the file\")\n",
    "\n",
    "# Example: open and close DB connection"
   ]
  },
  {
   "cell_type": "code",
   "execution_count": 16,
   "outputs": [
    {
     "name": "stdout",
     "output_type": "stream",
     "text": [
      "init\n",
      "enter\n",
      "Inside my context manager\n",
      "Exception '_io.TextIOWrapper' object has no attribute 'x' has been solved\n",
      "exit\n",
      "continue\n"
     ]
    }
   ],
   "source": [
    "# Implement our own context manager\n",
    "class ManagedFile:\n",
    "    def __init__(self, filename):\n",
    "        print('init')\n",
    "        self.filename = filename\n",
    "\n",
    "    def __enter__(self):\n",
    "        print(\"enter\")\n",
    "        self.file = open(self.filename, 'w')\n",
    "        return self.file\n",
    "\n",
    "    def __exit__(self, exc_type, exc_val, exc_tb):\n",
    "        if self.file:  # check not null\n",
    "            self.file.close()\n",
    "        if exc_tb is not None:\n",
    "            print(f'Exception {exc_val} has been solved')\n",
    "        print(\"exit\")\n",
    "        return True  # to handle the exception internally\n",
    "\n",
    "\n",
    "with ManagedFile('notes.txt') as file:\n",
    "    print(\"Inside my context manager\")\n",
    "    file.x()  ## throws an exception but we are handling it in __exit__ in context manager\n",
    "\n",
    "    file.write(\"Hi from our context manager\")\n",
    "\n",
    "print('continue')  # will reach this because we handled the exception in the context manager"
   ],
   "metadata": {
    "collapsed": false,
    "pycharm": {
     "name": "#%%\n"
    }
   }
  },
  {
   "cell_type": "code",
   "execution_count": null,
   "outputs": [],
   "source": [
    "# Implement our own context manager in another way\n",
    "from contextlib import contextmanager\n",
    "\n",
    "\n",
    "@contextmanager\n",
    "def open_managed_file(file_name):\n",
    "    f = open(file_name, 'w')\n",
    "    try:\n",
    "        yield f  # Generator\n",
    "    finally:\n",
    "        f.close()\n",
    "\n",
    "\n",
    "with open_managed_file('notes.txt') as f:\n",
    "    f.write('Hi')"
   ],
   "metadata": {
    "collapsed": false,
    "pycharm": {
     "name": "#%%\n"
    }
   }
  }
 ],
 "metadata": {
  "kernelspec": {
   "display_name": "Python 3",
   "language": "python",
   "name": "python3"
  },
  "language_info": {
   "codemirror_mode": {
    "name": "ipython",
    "version": 2
   },
   "file_extension": ".py",
   "mimetype": "text/x-python",
   "name": "python",
   "nbconvert_exporter": "python",
   "pygments_lexer": "ipython2",
   "version": "2.7.6"
  }
 },
 "nbformat": 4,
 "nbformat_minor": 0
}