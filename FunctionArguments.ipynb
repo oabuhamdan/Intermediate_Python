{
 "cells": [
  {
   "cell_type": "code",
   "execution_count": 2,
   "metadata": {
    "collapsed": true,
    "pycharm": {
     "name": "#%%\n"
    }
   },
   "outputs": [
    {
     "name": "stdout",
     "output_type": "stream",
     "text": [
      "Hi Osama\n"
     ]
    }
   ],
   "source": [
    "#Arguments vs parameters\n",
    "def greetings(name):  # Parameter\n",
    "    print(f\"Hi {name}\")\n",
    "\n",
    "\n",
    "greetings(\"Osama\")  # Argument"
   ]
  },
  {
   "cell_type": "code",
   "execution_count": 8,
   "outputs": [
    {
     "name": "stdout",
     "output_type": "stream",
     "text": [
      "a = 1, b= 2, c = 3\n",
      "a = 1, b= 2, c = 3\n",
      "a = 1, b= 2, c = 3\n",
      "a = 1, b= 2, c = 3\n"
     ]
    }
   ],
   "source": [
    "# kwargs vs args\n",
    "def foo(a, b, c=3):\n",
    "    print(f\"a = {a}, b= {b}, c = {c}\")\n",
    "\n",
    "\n",
    "foo(1, 2, 3)  # positional args (order is important)\n",
    "foo(b=2, a=1, c=3)  # keyword args (order is not important)\n",
    "foo(1, c=3, b=2)  # mix of both (can't add pos args after kw args)\n",
    "foo(1, b=2)  # default args (c is assigned to 3 by default)"
   ],
   "metadata": {
    "collapsed": false,
    "pycharm": {
     "name": "#%%\n"
    }
   }
  },
  {
   "cell_type": "code",
   "execution_count": 10,
   "outputs": [
    {
     "name": "stdout",
     "output_type": "stream",
     "text": [
      "1 2\n",
      "3\n",
      "4\n",
      "x: 1\n",
      "y: 2\n"
     ]
    }
   ],
   "source": [
    "def bar(a, b, *args, **kwargs):\n",
    "    # a and b are mandatory\n",
    "    # args is a tuple\n",
    "    # kwargs is a dict\n",
    "    print(a, b)\n",
    "    for arg in args:\n",
    "        print(arg)\n",
    "    for key, value in kwargs.items():\n",
    "        print(f\"{key}: {value}\")\n",
    "\n",
    "\n",
    "bar(1, 2, 3, 4, x=1, y=2)"
   ],
   "metadata": {
    "collapsed": false,
    "pycharm": {
     "name": "#%%\n"
    }
   }
  },
  {
   "cell_type": "code",
   "execution_count": 12,
   "outputs": [
    {
     "name": "stdout",
     "output_type": "stream",
     "text": [
      "1 2 3 4\n"
     ]
    }
   ],
   "source": [
    "# to force kwargs\n",
    "def baz(a, b, *, c, d):\n",
    "    # a and b are mandatory\n",
    "    # c and d must be kwargs\n",
    "    # any param after the star (*) must be a kwarg\n",
    "    print(a, b, c, d)\n",
    "\n",
    "\n",
    "baz(1, 2, c=3, d=4)"
   ],
   "metadata": {
    "collapsed": false,
    "pycharm": {
     "name": "#%%\n"
    }
   }
  },
  {
   "cell_type": "code",
   "execution_count": 14,
   "outputs": [
    {
     "name": "stdout",
     "output_type": "stream",
     "text": [
      "[1, 2, 3]\n",
      "c:1, d:2\n"
     ]
    }
   ],
   "source": [
    "def qux(*args, c, d):\n",
    "    # after *args we should use kwargs only\n",
    "    print(list(args))\n",
    "    print(f\"c:{c}, d:{d}\")\n",
    "\n",
    "\n",
    "qux(1, 2, 3, c=1, d=2)"
   ],
   "metadata": {
    "collapsed": false,
    "pycharm": {
     "name": "#%%\n"
    }
   }
  },
  {
   "cell_type": "code",
   "execution_count": 18,
   "outputs": [
    {
     "name": "stdout",
     "output_type": "stream",
     "text": [
      "1 2 3\n",
      "(4, 5)\n"
     ]
    }
   ],
   "source": [
    "# unpacking args\n",
    "def quux(a, b, c, *args):\n",
    "    print(a, b, c)\n",
    "    print(args)\n",
    "\n",
    "\n",
    "nums = [1, 2, 3, 4, 5]\n",
    "quux(*nums)  # unpack the list to args properly"
   ],
   "metadata": {
    "collapsed": false,
    "pycharm": {
     "name": "#%%\n"
    }
   }
  },
  {
   "cell_type": "code",
   "execution_count": 20,
   "outputs": [
    {
     "name": "stdout",
     "output_type": "stream",
     "text": [
      "1 2 3\n",
      "{'d': 4}\n"
     ]
    }
   ],
   "source": [
    "# unpacking kwargs\n",
    "# dict names should match params' names\n",
    "def quuz(a, b, c, **kwargs):\n",
    "    print(a, b, c)\n",
    "    print(kwargs)\n",
    "\n",
    "\n",
    "nums = {'a': 1, 'b': 2, 'c': 3, 'd': 4}\n",
    "quuz(**nums)  # unpack the dict to kwargs properly\n"
   ],
   "metadata": {
    "collapsed": false,
    "pycharm": {
     "name": "#%%\n"
    }
   }
  },
  {
   "cell_type": "code",
   "execution_count": 28,
   "outputs": [
    {
     "name": "stdout",
     "output_type": "stream",
     "text": [
      "number before modification by foo 5\n",
      "number after modification by foo 3\n"
     ]
    }
   ],
   "source": [
    "# local vs global variables\n",
    "def foo():\n",
    "    # Adding global keyword to refer to the global number\n",
    "    global number\n",
    "    print(f'number before modification by foo {number}')\n",
    "    number = 3\n",
    "\n",
    "\n",
    "number = 5\n",
    "foo()\n",
    "# Original number will be modified too after adding global keyword\n",
    "print(f'number after modification by foo {number}')"
   ],
   "metadata": {
    "collapsed": false,
    "pycharm": {
     "name": "#%%\n"
    }
   }
  },
  {
   "cell_type": "code",
   "execution_count": 31,
   "outputs": [
    {
     "name": "stdout",
     "output_type": "stream",
     "text": [
      "10 [10, 15, 20, 100]\n"
     ]
    }
   ],
   "source": [
    "# Call by Object vs Call by Object Reference\n",
    "def foo(x, a_list):\n",
    "    x = 5\n",
    "    var_list.append(100)\n",
    "\n",
    "var = 10\n",
    "var_list = [10, 15, 20]\n",
    "# notice that list got modified because it's mutable\n",
    "# while var wasn't modified because it's immutable\n",
    "foo(var, var_list)\n",
    "print(var, var_list)"
   ],
   "metadata": {
    "collapsed": false,
    "pycharm": {
     "name": "#%%\n"
    }
   }
  },
  {
   "cell_type": "code",
   "execution_count": null,
   "outputs": [],
   "source": [],
   "metadata": {
    "collapsed": false,
    "pycharm": {
     "name": "#%%\n"
    }
   }
  }
 ],
 "metadata": {
  "kernelspec": {
   "display_name": "Python 3",
   "language": "python",
   "name": "python3"
  },
  "language_info": {
   "codemirror_mode": {
    "name": "ipython",
    "version": 2
   },
   "file_extension": ".py",
   "mimetype": "text/x-python",
   "name": "python",
   "nbconvert_exporter": "python",
   "pygments_lexer": "ipython2",
   "version": "2.7.6"
  }
 },
 "nbformat": 4,
 "nbformat_minor": 0
}