{
 "cells": [
  {
   "cell_type": "code",
   "execution_count": 2,
   "metadata": {
    "collapsed": true,
    "pycharm": {
     "name": "#%%\n"
    }
   },
   "outputs": [],
   "source": [
    "#Exceptions:\n",
    "x = 5\n",
    "z = 2\n",
    "# throw exception using raise keyword\n",
    "if z < 0:\n",
    "    raise ZeroDivisionError(\"Can't divide by zero\")"
   ]
  },
  {
   "cell_type": "code",
   "execution_count": 7,
   "outputs": [
    {
     "name": "stdout",
     "output_type": "stream",
     "text": [
      "2\n"
     ]
    }
   ],
   "source": [
    "# test thing with assert\n",
    "x = 5\n",
    "z = 2\n",
    "assert (z > 0), \"can't divide by zero\"\n",
    "print(x // z)  # prints an int"
   ],
   "metadata": {
    "collapsed": false,
    "pycharm": {
     "name": "#%%\n"
    }
   }
  },
  {
   "cell_type": "code",
   "execution_count": 12,
   "outputs": [
    {
     "name": "stdout",
     "output_type": "stream",
     "text": [
      "division by zero\n",
      "can't divide by zero\n"
     ]
    }
   ],
   "source": [
    "# try except block\n",
    "try:\n",
    "    z = 0\n",
    "    print(x / z)\n",
    "except ZeroDivisionError as z:\n",
    "    print(z)\n",
    "    print(\"can't divide by zero\")"
   ],
   "metadata": {
    "collapsed": false,
    "pycharm": {
     "name": "#%%\n"
    }
   }
  },
  {
   "cell_type": "code",
   "execution_count": 14,
   "outputs": [
    {
     "name": "stdout",
     "output_type": "stream",
     "text": [
      "division by zero\n",
      "can't divide by zero\n"
     ]
    }
   ],
   "source": [
    "# multiple except blocks\n",
    "try:\n",
    "    z = 0\n",
    "    print(x / z)\n",
    "except ZeroDivisionError as zde:\n",
    "    print(zde)\n",
    "    print(\"can't divide by zero\")\n",
    "except TypeError as te:\n",
    "    print(te)"
   ],
   "metadata": {
    "collapsed": false,
    "pycharm": {
     "name": "#%%\n"
    }
   }
  },
  {
   "cell_type": "code",
   "execution_count": 16,
   "outputs": [
    {
     "name": "stdout",
     "output_type": "stream",
     "text": [
      "1.6666666666666667\n"
     ]
    }
   ],
   "source": [
    "# you can have else close if no exception happened\n",
    "try:\n",
    "    z = 5\n",
    "    x = 3\n",
    "    res = z / x\n",
    "except Exception as e:\n",
    "    print(e)\n",
    "else:\n",
    "    print(res)"
   ],
   "metadata": {
    "collapsed": false,
    "pycharm": {
     "name": "#%%\n"
    }
   }
  },
  {
   "cell_type": "code",
   "execution_count": 21,
   "outputs": [
    {
     "name": "stdout",
     "output_type": "stream",
     "text": [
      "5.0\n",
      "Division was done\n"
     ]
    }
   ],
   "source": [
    "# finally block: to clean up\n",
    "try:\n",
    "    z = 5\n",
    "    x = 1\n",
    "    res = z / x\n",
    "except Exception as e:\n",
    "    print(e)\n",
    "else:\n",
    "    print(res)\n",
    "finally:\n",
    "    print(\"Division was done\")"
   ],
   "metadata": {
    "collapsed": false,
    "pycharm": {
     "name": "#%%\n"
    }
   }
  },
  {
   "cell_type": "code",
   "execution_count": 23,
   "outputs": [
    {
     "ename": "MyException",
     "evalue": "2 is not acceptable here!",
     "output_type": "error",
     "traceback": [
      "\u001B[0;31m---------------------------------------------------------------------------\u001B[0m",
      "\u001B[0;31mMyException\u001B[0m                               Traceback (most recent call last)",
      "\u001B[0;32m/var/folders/9k/6fb9wvz9449bq955d8fnxskm0000gn/T/ipykernel_23118/3165381031.py\u001B[0m in \u001B[0;36m<module>\u001B[0;34m\u001B[0m\n\u001B[1;32m      4\u001B[0m \u001B[0mx\u001B[0m\u001B[0;34m=\u001B[0m \u001B[0;36m2\u001B[0m\u001B[0;34m\u001B[0m\u001B[0;34m\u001B[0m\u001B[0m\n\u001B[1;32m      5\u001B[0m \u001B[0;32mif\u001B[0m \u001B[0mx\u001B[0m\u001B[0;34m==\u001B[0m\u001B[0;36m2\u001B[0m\u001B[0;34m:\u001B[0m\u001B[0;34m\u001B[0m\u001B[0;34m\u001B[0m\u001B[0m\n\u001B[0;32m----> 6\u001B[0;31m     \u001B[0;32mraise\u001B[0m \u001B[0mMyException\u001B[0m\u001B[0;34m(\u001B[0m\u001B[0;34m\"2 is not acceptable here!\"\u001B[0m\u001B[0;34m)\u001B[0m\u001B[0;34m\u001B[0m\u001B[0;34m\u001B[0m\u001B[0m\n\u001B[0m\u001B[1;32m      7\u001B[0m \u001B[0;34m\u001B[0m\u001B[0m\n\u001B[1;32m      8\u001B[0m \u001B[0;34m\u001B[0m\u001B[0m\n",
      "\u001B[0;31mMyException\u001B[0m: 2 is not acceptable here!"
     ]
    }
   ],
   "source": [
    "# define custom exception\n",
    "class MyException(Exception):\n",
    "    pass  ## by using pass only you can send your own messages\n",
    "\n",
    "\n",
    "x = 2\n",
    "if x == 2:\n",
    "    raise MyException(\"2 is not acceptable here!\")"
   ],
   "metadata": {
    "collapsed": false,
    "pycharm": {
     "name": "#%%\n"
    }
   }
  },
  {
   "cell_type": "code",
   "execution_count": 26,
   "outputs": [
    {
     "name": "stdout",
     "output_type": "stream",
     "text": [
      "This number is not allowed here:  2\n"
     ]
    }
   ],
   "source": [
    "class MyValueException(Exception):\n",
    "    def __init__(self, message, value):\n",
    "        self.message = message\n",
    "        self.value = value\n",
    "\n",
    "try:\n",
    "    x = 2\n",
    "    if x == 2:\n",
    "        raise MyValueException(\"This number is not allowed here: \", x)\n",
    "except MyValueException as e:\n",
    "    print(e.message, e.value)"
   ],
   "metadata": {
    "collapsed": false,
    "pycharm": {
     "name": "#%%\n"
    }
   }
  },
  {
   "cell_type": "code",
   "execution_count": null,
   "outputs": [],
   "source": [],
   "metadata": {
    "collapsed": false,
    "pycharm": {
     "name": "#%%\n"
    }
   }
  }
 ],
 "metadata": {
  "kernelspec": {
   "display_name": "Python 3",
   "language": "python",
   "name": "python3"
  },
  "language_info": {
   "codemirror_mode": {
    "name": "ipython",
    "version": 2
   },
   "file_extension": ".py",
   "mimetype": "text/x-python",
   "name": "python",
   "nbconvert_exporter": "python",
   "pygments_lexer": "ipython2",
   "version": "2.7.6"
  }
 },
 "nbformat": 4,
 "nbformat_minor": 0
}