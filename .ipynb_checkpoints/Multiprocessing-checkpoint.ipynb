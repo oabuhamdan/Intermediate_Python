{
 "cells": [
  {
   "cell_type": "code",
   "execution_count": 19,
   "metadata": {
    "collapsed": true
   },
   "outputs": [
    {
     "name": "stdout",
     "output_type": "stream",
     "text": [
      "0\n",
      "1\n",
      "4\n",
      "9\n"
     ]
    },
    {
     "data": {
      "text/plain": [
       "[None, None, None, None]"
      ]
     },
     "execution_count": 19,
     "metadata": {},
     "output_type": "execute_result"
    }
   ],
   "source": [
    "import time\n",
    "from multiprocessing import Process\n",
    "import os\n",
    "\n",
    "processes = list()\n",
    "num_processes = os.cpu_count()\n",
    "\n",
    "# create processes\n",
    "function = lambda x: print(x ** 2)\n",
    "for i in range(num_processes):\n",
    "    # target is the function to run by the process\n",
    "    p = Process(target=function(i))\n",
    "    # add the process to the list of processes\n",
    "    processes.append(p)\n",
    "\n",
    "# start the process\n",
    "# I am using list comprehension just for fun\n",
    "[p.start() for p in processes]\n",
    "\n",
    "# Each processes should wait others until they finish\n",
    "# Here I am blocking the main thread until everything is done\n",
    "[p.join() for p in processes]"
   ]
  },
  {
   "cell_type": "code",
   "execution_count": 21,
   "metadata": {
    "pycharm": {
     "name": "#%%\n"
    }
   },
   "outputs": [
    {
     "name": "stdout",
     "output_type": "stream",
     "text": [
      "Number at beginning is 0\n",
      "Number at beginning is 0\n"
     ]
    },
    {
     "name": "stderr",
     "output_type": "stream",
     "text": [
      "Traceback (most recent call last):\n",
      "  File \"<string>\", line 1, in <module>\n",
      "  File \"/Library/Developer/CommandLineTools/Library/Frameworks/Python3.framework/Versions/3.8/lib/python3.8/multiprocessing/spawn.py\", line 116, in spawn_main\n",
      "    exitcode = _main(fd, parent_sentinel)\n",
      "  File \"/Library/Developer/CommandLineTools/Library/Frameworks/Python3.framework/Versions/3.8/lib/python3.8/multiprocessing/spawn.py\", line 126, in _main\n",
      "    self = reduction.pickle.load(from_parent)\n",
      "AttributeError: Can't get attribute 'square_num' on <module '__main__' (built-in)>\n",
      "Traceback (most recent call last):\n",
      "  File \"<string>\", line 1, in <module>\n",
      "  File \"/Library/Developer/CommandLineTools/Library/Frameworks/Python3.framework/Versions/3.8/lib/python3.8/multiprocessing/spawn.py\", line 116, in spawn_main\n",
      "    exitcode = _main(fd, parent_sentinel)\n",
      "  File \"/Library/Developer/CommandLineTools/Library/Frameworks/Python3.framework/Versions/3.8/lib/python3.8/multiprocessing/spawn.py\", line 126, in _main\n",
      "    self = reduction.pickle.load(from_parent)\n",
      "AttributeError: Can't get attribute 'square_num' on <module '__main__' (built-in)>\n"
     ]
    }
   ],
   "source": [
    "# Processes don't share memory space\n",
    "# So you can't simply define a variable as a global to be shared among prcesses\n",
    "# We can use Value for single value, Array for multilple values\n",
    "from multiprocessing import Process, Value, Array\n",
    "import time\n",
    "\n",
    "# 'i' means the data type is integer\n",
    "# 0 is the starting value\n",
    "\n",
    "shared_number = Value('i', 0)\n",
    "print(f'Number at beginning is {shared_number.value}')\n",
    "\n",
    "\n",
    "def square_num(sh_number):\n",
    "    # we are adding this delay so the scheduler switches to another process\n",
    "    time.sleep(0.01)\n",
    "    sh_number.value =sh_number.value ** 2\n",
    "\n",
    "\n",
    "p1 = Process(target=square_num, args=(shared_number,))\n",
    "p2 = Process(target=square_num, args=(shared_number,))\n",
    "\n",
    "p1.start()\n",
    "p2.start()\n",
    "\n",
    "p1.join()\n",
    "p2.join()\n",
    "print(f'Number at beginning is {shared_number.value}')"
   ]
  },
  {
   "cell_type": "code",
   "execution_count": 20,
   "metadata": {
    "pycharm": {
     "name": "#%%\n"
    }
   },
   "outputs": [],
   "source": []
  }
 ],
 "metadata": {
  "kernelspec": {
   "display_name": "Python 3 (ipykernel)",
   "language": "python",
   "name": "python3"
  },
  "language_info": {
   "codemirror_mode": {
    "name": "ipython",
    "version": 3
   },
   "file_extension": ".py",
   "mimetype": "text/x-python",
   "name": "python",
   "nbconvert_exporter": "python",
   "pygments_lexer": "ipython3",
   "version": "3.8.9"
  }
 },
 "nbformat": 4,
 "nbformat_minor": 1
}
