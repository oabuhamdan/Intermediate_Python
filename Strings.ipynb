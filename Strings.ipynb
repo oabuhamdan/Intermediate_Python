{
 "cells": [
  {
   "cell_type": "code",
   "execution_count": 4,
   "metadata": {
    "collapsed": true
   },
   "outputs": [
    {
     "name": "stdout",
     "output_type": "stream",
     "text": [
      "s\n",
      "amasO\n"
     ]
    }
   ],
   "source": [
    "# string is immutable\n",
    "# triple quotes for multi-line strings\n",
    "# Strings can be sliced\n",
    "my_str = \"Osama\"\n",
    "print(my_str[1:2])\n",
    "# to reverse a string\n",
    "print(my_str[::-1])"
   ]
  },
  {
   "cell_type": "code",
   "execution_count": 7,
   "outputs": [
    {
     "name": "stdout",
     "output_type": "stream",
     "text": [
      "y x\n"
     ]
    }
   ],
   "source": [
    "# to remove white space\n",
    "print('   y x     '.strip())"
   ],
   "metadata": {
    "collapsed": false,
    "pycharm": {
     "name": "#%%\n"
    }
   }
  },
  {
   "cell_type": "code",
   "execution_count": 9,
   "outputs": [
    {
     "name": "stdout",
     "output_type": "stream",
     "text": [
      "OSAMA\n",
      "osama\n",
      "True\n",
      "True\n"
     ]
    }
   ],
   "source": [
    "print(my_str.upper())\n",
    "print(my_str.lower())\n",
    "print(my_str.startswith('O'))\n",
    "print(my_str.endswith('ama'))"
   ],
   "metadata": {
    "collapsed": false,
    "pycharm": {
     "name": "#%%\n"
    }
   }
  },
  {
   "cell_type": "code",
   "execution_count": 11,
   "outputs": [
    {
     "name": "stdout",
     "output_type": "stream",
     "text": [
      "1\n",
      "2\n"
     ]
    }
   ],
   "source": [
    "# prints the first index of a char\n",
    "print(my_str.find('s'))\n",
    "# to count chars in a string\n",
    "print(my_str.count(\"a\"))"
   ],
   "metadata": {
    "collapsed": false,
    "pycharm": {
     "name": "#%%\n"
    }
   }
  },
  {
   "cell_type": "code",
   "execution_count": 15,
   "outputs": [
    {
     "name": "stdout",
     "output_type": "stream",
     "text": [
      "['Hello', 'my', 'name', 'is', 'Osama']\n"
     ]
    }
   ],
   "source": [
    "my_str = \"Hello my name is Osama\"\n",
    "# a list of strings split by spaces\n",
    "list_of_words = my_str.split()\n",
    "print(my_str.split())"
   ],
   "metadata": {
    "collapsed": false,
    "pycharm": {
     "name": "#%%\n"
    }
   }
  },
  {
   "cell_type": "code",
   "execution_count": 16,
   "outputs": [
    {
     "name": "stdout",
     "output_type": "stream",
     "text": [
      "Hello, my, name, is, Osama\n"
     ]
    }
   ],
   "source": [
    "# using .join() is the pythonic way\n",
    "# to concat iterable to strings\n",
    "new_string = ', '.join(list_of_words)\n",
    "print(new_string)"
   ],
   "metadata": {
    "collapsed": false,
    "pycharm": {
     "name": "#%%\n"
    }
   }
  },
  {
   "cell_type": "code",
   "execution_count": 17,
   "outputs": [
    {
     "name": "stdout",
     "output_type": "stream",
     "text": [
      "['a', 'a', 'a', 'a', 'a', 'a']\n"
     ]
    }
   ],
   "source": [
    "my_list = ['a'] * 6\n",
    "print(my_list)"
   ],
   "metadata": {
    "collapsed": false,
    "pycharm": {
     "name": "#%%\n"
    }
   }
  },
  {
   "cell_type": "code",
   "execution_count": 27,
   "outputs": [
    {
     "name": "stdout",
     "output_type": "stream",
     "text": [
      "Hello osama\n",
      "Hello osama, you owe me 3.46\n",
      "Hello OSAMA, 345\n"
     ]
    }
   ],
   "source": [
    "## String format ##\n",
    "# old formatting\n",
    "name = 'osama'\n",
    "sentence = 'Hello %s' % name\n",
    "print(sentence)\n",
    "# new formatting\n",
    "sentence2 = 'Hello {}, you owe me {:.2f}'.format(name, 3.456)\n",
    "print(sentence2)\n",
    "# newer way\n",
    "# you can do operations on the placeholder\n",
    "sentence3 = f\"Hello {name.upper()}, {345}\"\n",
    "print(sentence3)"
   ],
   "metadata": {
    "collapsed": false,
    "pycharm": {
     "name": "#%%\n"
    }
   }
  },
  {
   "cell_type": "code",
   "execution_count": null,
   "outputs": [],
   "source": [],
   "metadata": {
    "collapsed": false,
    "pycharm": {
     "name": "#%%\n"
    }
   }
  }
 ],
 "metadata": {
  "kernelspec": {
   "display_name": "Python 3",
   "language": "python",
   "name": "python3"
  },
  "language_info": {
   "codemirror_mode": {
    "name": "ipython",
    "version": 2
   },
   "file_extension": ".py",
   "mimetype": "text/x-python",
   "name": "python",
   "nbconvert_exporter": "python",
   "pygments_lexer": "ipython2",
   "version": "2.7.6"
  }
 },
 "nbformat": 4,
 "nbformat_minor": 0
}