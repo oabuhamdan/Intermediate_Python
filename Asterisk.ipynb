{
 "cells": [
  {
   "cell_type": "code",
   "execution_count": 2,
   "metadata": {
    "collapsed": true
   },
   "outputs": [
    {
     "name": "stdout",
     "output_type": "stream",
     "text": [
      "8\n",
      "16\n"
     ]
    }
   ],
   "source": [
    "# In python we have multiple uses of (*)\n",
    "# 1- Multiplication\n",
    "print(2 * 4)\n",
    "print(2 ** 4)  ## power"
   ]
  },
  {
   "cell_type": "code",
   "execution_count": 7,
   "outputs": [
    {
     "name": "stdout",
     "output_type": "stream",
     "text": [
      "[0, 0, 0, 0, 0]\n",
      "[0, 1, 0, 1, 0, 1, 0, 1, 0, 1]\n",
      "(1, 2, 3, 1, 2, 3, 1, 2, 3)\n",
      "ABABAB\n"
     ]
    }
   ],
   "source": [
    "# 2- create repetitions\n",
    "zeroes = [0] * 5\n",
    "print(zeroes)\n",
    "zeroes_ones = [0, 1] * 5\n",
    "print(zeroes_ones)\n",
    "repeated_tuple = (1, 2, 3) * 3\n",
    "print(repeated_tuple)\n",
    "print(\"AB\" * 3)"
   ],
   "metadata": {
    "collapsed": false,
    "pycharm": {
     "name": "#%%\n"
    }
   }
  },
  {
   "cell_type": "code",
   "execution_count": 14,
   "outputs": [
    {
     "name": "stdout",
     "output_type": "stream",
     "text": [
      "(3, 5, 6, 3, 5, 6)\n",
      "begin [1, 2, 3, 5] last 6\n",
      "begin 1 last [2, 3, 5, 6]\n",
      "begin 1 middle [2, 3, 5] last 6\n"
     ]
    }
   ],
   "source": [
    "# 3- use with args and kwargs\n",
    "# 4- unpack parameters for args and kwargs\n",
    "param_list = [1, 2, 3, 5, 6]\n",
    "func = lambda x, y, *z: x * y * z\n",
    "print(func(*param_list))\n",
    "*begin, last = param_list\n",
    "print(f\"begin {begin} last {last}\")\n",
    "begin, *last = param_list\n",
    "print(f\"begin {begin} last {last}\")\n",
    "begin, *middle, last = param_list\n",
    "print(f\"begin {begin} middle {middle} last {last}\")"
   ],
   "metadata": {
    "collapsed": false,
    "pycharm": {
     "name": "#%%\n"
    }
   }
  },
  {
   "cell_type": "code",
   "execution_count": 15,
   "outputs": [
    {
     "name": "stdout",
     "output_type": "stream",
     "text": [
      "[1, 2, 3, 4, 5, 6]\n"
     ]
    }
   ],
   "source": [
    "# 5- merge iterables into a list\n",
    "my_tuple = (1, 2, 3)\n",
    "my_list = [4, 5, 6]\n",
    "combined = [*my_tuple, *my_list]\n",
    "print(combined)"
   ],
   "metadata": {
    "collapsed": false,
    "pycharm": {
     "name": "#%%\n"
    }
   }
  },
  {
   "cell_type": "code",
   "execution_count": 18,
   "outputs": [
    {
     "name": "stdout",
     "output_type": "stream",
     "text": [
      "{'a': 1, 'b': 2, 'c': 3, 'd': 4}\n"
     ]
    }
   ],
   "source": [
    "# 6- merge multiple dictionaries\n",
    "dict_1 = {'a': 1, 'b': 2}\n",
    "dict_2 = {'c': 3, 'd': 4}\n",
    "combined = {**dict_1, **dict_2}\n",
    "print(combined)"
   ],
   "metadata": {
    "collapsed": false,
    "pycharm": {
     "name": "#%%\n"
    }
   }
  },
  {
   "cell_type": "code",
   "execution_count": null,
   "outputs": [],
   "source": [],
   "metadata": {
    "collapsed": false,
    "pycharm": {
     "name": "#%%\n"
    }
   }
  }
 ],
 "metadata": {
  "kernelspec": {
   "display_name": "Python 3",
   "language": "python",
   "name": "python3"
  },
  "language_info": {
   "codemirror_mode": {
    "name": "ipython",
    "version": 2
   },
   "file_extension": ".py",
   "mimetype": "text/x-python",
   "name": "python",
   "nbconvert_exporter": "python",
   "pygments_lexer": "ipython2",
   "version": "2.7.6"
  }
 },
 "nbformat": 4,
 "nbformat_minor": 0
}