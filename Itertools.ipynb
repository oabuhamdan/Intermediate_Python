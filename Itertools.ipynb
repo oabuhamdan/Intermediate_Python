{
 "cells": [
  {
   "cell_type": "code",
   "execution_count": 3,
   "metadata": {
    "collapsed": true
   },
   "outputs": [
    {
     "name": "stdout",
     "output_type": "stream",
     "text": [
      "[(1, 5), (1, 6), (2, 5), (2, 6), (3, 5), (3, 6)]\n",
      "[(1, 5, 1, 5), (1, 5, 2, 5), (1, 5, 3, 5), (2, 5, 1, 5), (2, 5, 2, 5), (2, 5, 3, 5), (3, 5, 1, 5), (3, 5, 2, 5), (3, 5, 3, 5)]\n"
     ]
    }
   ],
   "source": [
    "# product\n",
    "import time\n",
    "from itertools import product\n",
    "\n",
    "a = [1, 2, 3]\n",
    "b = [5, 6]\n",
    "# calc cartesian product\n",
    "prod = product(a, b)\n",
    "print(list(prod))\n",
    "a = [1, 2, 3]\n",
    "b = [5]\n",
    "# repeats the product 2 times\n",
    "prod = product(a, b, repeat=2)\n",
    "print(list(prod))"
   ]
  },
  {
   "cell_type": "code",
   "execution_count": 7,
   "outputs": [
    {
     "name": "stdout",
     "output_type": "stream",
     "text": [
      "[(1, 2, 3), (1, 3, 2), (2, 1, 3), (2, 3, 1), (3, 1, 2), (3, 2, 1)]\n",
      "[(1, 2), (1, 3), (2, 1), (2, 3), (3, 1), (3, 2)]\n"
     ]
    }
   ],
   "source": [
    "from itertools import permutations\n",
    "\n",
    "perm = permutations(a)\n",
    "print(list(perm))\n",
    "# 2 permutations only\n",
    "perm = permutations(a, 2)\n",
    "print(list(perm))"
   ],
   "metadata": {
    "collapsed": false,
    "pycharm": {
     "name": "#%%\n"
    }
   }
  },
  {
   "cell_type": "code",
   "execution_count": 10,
   "outputs": [
    {
     "name": "stdout",
     "output_type": "stream",
     "text": [
      "[(1, 2), (1, 3), (2, 3)]\n",
      "[(1, 1), (1, 2), (1, 3), (2, 2), (2, 3), (3, 3)]\n"
     ]
    }
   ],
   "source": [
    "from itertools import combinations\n",
    "\n",
    "#length of comb is mandatory\n",
    "comb = combinations(a, 2)\n",
    "print(list(comb))\n",
    "# we have combinations with replacement\n",
    "from itertools import combinations_with_replacement\n",
    "\n",
    "comb = combinations_with_replacement(a, 2)\n",
    "print(list(comb))"
   ],
   "metadata": {
    "collapsed": false,
    "pycharm": {
     "name": "#%%\n"
    }
   }
  },
  {
   "cell_type": "code",
   "execution_count": 15,
   "outputs": [
    {
     "name": "stdout",
     "output_type": "stream",
     "text": [
      "[1, 3, 6, 10]\n",
      "[1, 2, 6, 24]\n"
     ]
    }
   ],
   "source": [
    "from itertools import accumulate\n",
    "import operator\n",
    "\n",
    "# loop through array to calculate accumulates\n",
    "a = [1, 2, 3, 4]\n",
    "acc = accumulate(a)  # sum is default\n",
    "print(list(acc))\n",
    "# multiply accumulate\n",
    "acc_mul = accumulate(a, func=operator.mul)  # sum is default\n",
    "print(list(acc_mul))"
   ],
   "metadata": {
    "collapsed": false,
    "pycharm": {
     "name": "#%%\n"
    }
   }
  },
  {
   "cell_type": "code",
   "execution_count": 29,
   "outputs": [
    {
     "name": "stdout",
     "output_type": "stream",
     "text": [
      "25 [{'name': 'osama', 'age': 25}, {'name': 'ali', 'age': 25}]\n",
      "23 [{'name': 'laith', 'age': 23}, {'name': 'omar', 'age': 23}]\n"
     ]
    }
   ],
   "source": [
    "from itertools import groupby\n",
    "\n",
    "# takes a function as a key to group thing by\n",
    "gb = groupby(a, key=lambda x: x < 3)\n",
    "people = [\n",
    "    {\n",
    "        'name': 'osama',\n",
    "        'age': 25\n",
    "    },\n",
    "    {\n",
    "        'name': 'ali',\n",
    "        'age': 25\n",
    "    },\n",
    "    {\n",
    "        'name': 'laith',\n",
    "        'age': 23\n",
    "    },\n",
    "\n",
    "    {\n",
    "        'name': 'omar',\n",
    "        'age': 23\n",
    "    },\n",
    "]\n",
    "gb = groupby(people, key=lambda x: x['age'])\n",
    "for key, val in gb:\n",
    "    print(key, list(val))"
   ],
   "metadata": {
    "collapsed": false,
    "pycharm": {
     "name": "#%%\n"
    }
   }
  },
  {
   "cell_type": "code",
   "execution_count": 2,
   "outputs": [
    {
     "name": "stdout",
     "output_type": "stream",
     "text": [
      "1\n",
      "2\n",
      "3\n",
      "4\n",
      "5\n",
      "6\n",
      "7\n",
      "8\n",
      "9\n",
      "10\n",
      "11\n",
      "12\n",
      "13\n",
      "14\n",
      "15\n"
     ]
    }
   ],
   "source": [
    "from itertools import count, cycle, repeat\n",
    "import time\n",
    "\n",
    "# count creates an infinity loop starting from\n",
    "# the number in parenthesis\n",
    "for i in count(1):\n",
    "    print(i)\n",
    "    if i == 15:\n",
    "        break"
   ],
   "metadata": {
    "collapsed": false,
    "pycharm": {
     "name": "#%%\n"
    }
   }
  },
  {
   "cell_type": "code",
   "execution_count": 5,
   "outputs": [
    {
     "name": "stdout",
     "output_type": "stream",
     "text": [
      "1\n",
      "2\n",
      "3\n",
      "1\n",
      "2\n",
      "3\n",
      "1\n",
      "2\n",
      "3\n",
      "1\n",
      "2\n",
      "3\n",
      "1\n",
      "2\n",
      "3\n",
      "1\n",
      "2\n",
      "3\n",
      "1\n",
      "2\n"
     ]
    }
   ],
   "source": [
    "# cycle loops through an array over and over\n",
    "a = [1, 2, 3]\n",
    "count = 0\n",
    "for i in cycle(a):\n",
    "    print(i)\n",
    "    count += 1\n",
    "    if count == 20:\n",
    "        break"
   ],
   "metadata": {
    "collapsed": false,
    "pycharm": {
     "name": "#%%\n"
    }
   }
  },
  {
   "cell_type": "code",
   "execution_count": 16,
   "outputs": [
    {
     "name": "stdout",
     "output_type": "stream",
     "text": [
      "[1, 2, 3]\n",
      "[1, 2, 3]\n",
      "[1, 2, 3]\n"
     ]
    }
   ],
   "source": [
    "# repeat an item n times\n",
    "for i in repeat([1, 2, 3, ], 3):\n",
    "    print(i)"
   ],
   "metadata": {
    "collapsed": false,
    "pycharm": {
     "name": "#%%\n"
    }
   }
  },
  {
   "cell_type": "code",
   "execution_count": null,
   "outputs": [],
   "source": [],
   "metadata": {
    "collapsed": false,
    "pycharm": {
     "name": "#%%\n"
    }
   }
  }
 ],
 "metadata": {
  "kernelspec": {
   "display_name": "Python 3",
   "language": "python",
   "name": "python3"
  },
  "language_info": {
   "codemirror_mode": {
    "name": "ipython",
    "version": 2
   },
   "file_extension": ".py",
   "mimetype": "text/x-python",
   "name": "python",
   "nbconvert_exporter": "python",
   "pygments_lexer": "ipython2",
   "version": "2.7.6"
  }
 },
 "nbformat": 4,
 "nbformat_minor": 0
}