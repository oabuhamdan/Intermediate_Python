{
 "cells": [
  {
   "cell_type": "code",
   "execution_count": 51,
   "metadata": {
    "collapsed": true
   },
   "outputs": [
    {
     "name": "stdout",
     "output_type": "stream",
     "text": [
      "0\n",
      "1\n",
      "4\n",
      "9\n"
     ]
    },
    {
     "data": {
      "text/plain": "[None, None, None, None]"
     },
     "execution_count": 51,
     "metadata": {},
     "output_type": "execute_result"
    }
   ],
   "source": [
    "import time\n",
    "from multiprocessing import Process\n",
    "import os\n",
    "\n",
    "processes = list()\n",
    "num_processes = os.cpu_count()\n",
    "\n",
    "# create processes\n",
    "function = lambda x: print(x ** 2)\n",
    "for i in range(num_processes):\n",
    "    # target is the function to run by the process\n",
    "    p = Process(target=function(i))\n",
    "    # add the process to the list of processes\n",
    "    processes.append(p)\n",
    "\n",
    "# start the process\n",
    "# I am using list comprehension just for fun\n",
    "[p.start() for p in processes]\n",
    "\n",
    "# Each processes should wait others until they finish\n",
    "# Here I am blocking the main thread until everything is done\n",
    "[p.join() for p in processes]"
   ]
  },
  {
   "cell_type": "code",
   "execution_count": 60,
   "metadata": {
    "pycharm": {
     "name": "#%%\n"
    }
   },
   "outputs": [
    {
     "name": "stdout",
     "output_type": "stream",
     "text": [
      "Number at beginning is 0\n",
      "Number at end is 200\n"
     ]
    }
   ],
   "source": [
    "# Processes don't share memory space\n",
    "# So you can't simply define a variable as a global to be shared among prcesses\n",
    "# We can use Value for single value, Array for multilple values\n",
    "from multiprocessing import Value, Lock\n",
    "import time\n",
    "\n",
    "# 'i' means the data type is integer\n",
    "# 0 is the starting value\n",
    "\n",
    "shared_number = Value('i', 0)\n",
    "print(f'Number at beginning is {shared_number.value}')\n",
    "\n",
    "lock = Lock()\n",
    "\n",
    "\n",
    "def add_100(sh_number, lock):\n",
    "    # we are adding this delay so the scheduler switches to another process\n",
    "    for i in range(100):\n",
    "        time.sleep(0.001)\n",
    "        # creating critical section\n",
    "        # using lock in this way is better than using acquire and release\n",
    "        with lock:\n",
    "            sh_number.value += 1\n",
    "\n",
    "\n",
    "p1 = Process(target=add_100(shared_number, lock))\n",
    "p2 = Process(target=add_100(shared_number, lock))\n",
    "\n",
    "p1.start()\n",
    "p2.start()\n",
    "\n",
    "p1.join()\n",
    "p2.join()\n",
    "print(f'Number at end is {shared_number.value}')"
   ]
  },
  {
   "cell_type": "code",
   "execution_count": 64,
   "metadata": {
    "pycharm": {
     "name": "#%%\n"
    }
   },
   "outputs": [
    {
     "name": "stdout",
     "output_type": "stream",
     "text": [
      "Array at beginning is [0.0, 100.0, 200.0]\n",
      "Array at beginning is [200.0, 300.0, 400.0]\n"
     ]
    }
   ],
   "source": [
    "from multiprocessing import Array\n",
    "\n",
    "# type is double\n",
    "shared_array = Array('d', [0.0, 100.0, 200.0])\n",
    "print(f'Array at beginning is {shared_array[:]}')\n",
    "lock = Lock()\n",
    "\n",
    "\n",
    "def add_100(sh_array, lock):\n",
    "    # we are adding this delay so the scheduler switches to another process\n",
    "    for i in range(100):\n",
    "        time.sleep(0.01)\n",
    "        # creating critical section\n",
    "        # using lock in this way is better than using acquire and release\n",
    "        for j in range(len(shared_array)):\n",
    "            with lock:\n",
    "                sh_array[j] += 1\n",
    "\n",
    "\n",
    "p1 = Process(target=add_100(shared_array, lock))\n",
    "p2 = Process(target=add_100(shared_array, lock))\n",
    "\n",
    "p1.start()\n",
    "p2.start()\n",
    "\n",
    "p1.join()\n",
    "p2.join()\n",
    "print(f'Array at beginning is {shared_array[:]}')"
   ]
  },
  {
   "cell_type": "code",
   "execution_count": 71,
   "outputs": [
    {
     "name": "stdout",
     "output_type": "stream",
     "text": [
      "1\n",
      "4\n",
      "9\n",
      "16\n",
      "25\n",
      "-1\n",
      "-2\n",
      "-3\n",
      "-4\n",
      "-5\n"
     ]
    }
   ],
   "source": [
    "from multiprocessing import Queue\n",
    "\n",
    "q = Queue()\n",
    "\n",
    "\n",
    "# Q is used for inter-processes actions\n",
    "\n",
    "def square(numbers, q):\n",
    "    for i in numbers:\n",
    "        q.put(i * i)\n",
    "\n",
    "\n",
    "def negative(numbers, q):\n",
    "    for i in numbers:\n",
    "        q.put(i * -1)\n",
    "\n",
    "\n",
    "numbers = [1, 2, 3, 4, 5]\n",
    "p1 = Process(target=square(numbers, q))\n",
    "p2 = Process(target=negative(numbers, q))\n",
    "\n",
    "p1.start()\n",
    "p2.start()\n",
    "\n",
    "p1.join()\n",
    "p2.join()\n",
    "\n",
    "while not q.empty():\n",
    "    print(q.get())"
   ],
   "metadata": {
    "collapsed": false,
    "pycharm": {
     "name": "#%%\n"
    }
   }
  },
  {
   "cell_type": "code",
   "execution_count": 80,
   "outputs": [],
   "source": [
    "# Process pool is used to manage multiple process\n",
    "from multiprocessing import Pool\n",
    "\n",
    "\n",
    "def cube(number):\n",
    "    return number ** 3\n",
    "\n",
    "\n",
    "numbers = range(10)\n",
    "\n",
    "pool = Pool()\n",
    "# will create # of process as your machine have and split the iterable between processes\n",
    "result = pool.map(func=cube, iterable=numbers)\n",
    "# closes accepting actions\n",
    "pool.close()\n",
    "# wait for processes\n",
    "pool.join()\n",
    "print(result)\n"
   ],
   "metadata": {
    "collapsed": false,
    "pycharm": {
     "name": "#%%\n"
    }
   }
  },
  {
   "cell_type": "code",
   "execution_count": null,
   "outputs": [],
   "source": [],
   "metadata": {
    "collapsed": false,
    "pycharm": {
     "name": "#%%\n"
    }
   }
  }
 ],
 "metadata": {
  "kernelspec": {
   "display_name": "Python 3 (ipykernel)",
   "language": "python",
   "name": "python3"
  },
  "language_info": {
   "codemirror_mode": {
    "name": "ipython",
    "version": 3
   },
   "file_extension": ".py",
   "mimetype": "text/x-python",
   "name": "python",
   "nbconvert_exporter": "python",
   "pygments_lexer": "ipython3",
   "version": "3.8.9"
  }
 },
 "nbformat": 4,
 "nbformat_minor": 1
}