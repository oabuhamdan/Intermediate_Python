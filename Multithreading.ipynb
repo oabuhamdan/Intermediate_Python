{
 "cells": [
  {
   "cell_type": "code",
   "execution_count": 27,
   "metadata": {
    "collapsed": true
   },
   "outputs": [
    {
     "name": "stdout",
     "output_type": "stream",
     "text": [
      "0\n",
      "1\n",
      "4\n",
      "9\n",
      "16\n"
     ]
    },
    {
     "data": {
      "text/plain": "[None, None, None, None, None]"
     },
     "execution_count": 27,
     "metadata": {},
     "output_type": "execute_result"
    }
   ],
   "source": [
    "from threading import Thread\n",
    "\n",
    "threads = list()\n",
    "num_threads = 5\n",
    "\n",
    "# create thread\n",
    "function = lambda x: print(x ** 2)\n",
    "for i in range(num_threads):\n",
    "    # target is the function to run by the thread\n",
    "    p = Thread(target=function(i))\n",
    "    # add the thread to the list of threads\n",
    "    threads.append(p)\n",
    "\n",
    "# start the threads\n",
    "# I am using list comprehension just for fun\n",
    "[p.start() for p in threads]\n",
    "\n",
    "# Each thread should wait others until they finish\n",
    "# Here I am blocking the main thread until everything is done\n",
    "[p.join() for p in threads]\n",
    "\n",
    "# All of the above-mentioned threads will start in the same processes\n",
    "# This is not a real parallelism, it's kinda thread switching"
   ]
  },
  {
   "cell_type": "code",
   "execution_count": 28,
   "outputs": [
    {
     "name": "stdout",
     "output_type": "stream",
     "text": [
      "Start value 0\n",
      "End value 4\n"
     ]
    }
   ],
   "source": [
    "# Share data between threads\n",
    "# Threads share the same memory space\n",
    "import time\n",
    "from threading import Lock\n",
    "\n",
    "database_value = 0\n",
    "\n",
    "\n",
    "def increase_db_value(lock):\n",
    "    global database_value\n",
    "    # acquire and release to create a critical sections\n",
    "    lock.acquire()\n",
    "    local_copy = database_value\n",
    "    local_copy += 1\n",
    "    time.sleep(0.1)\n",
    "    database_value = local_copy\n",
    "    lock.release()\n",
    "    # or we can use with no need to release\n",
    "    with lock:\n",
    "        local_copy = database_value\n",
    "        local_copy += 1\n",
    "        time.sleep(0.1)\n",
    "        database_value = local_copy\n",
    "\n",
    "\n",
    "print(f\"Start value {database_value}\")\n",
    "lock = Lock()\n",
    "thread1 = Thread(target=increase_db_value, args=(lock,))\n",
    "thread2 = Thread(target=increase_db_value, args=(lock,))\n",
    "\n",
    "thread1.start()\n",
    "thread2.start()\n",
    "\n",
    "thread1.join()\n",
    "thread2.join()\n",
    "print(f\"End value {database_value}\")\n",
    "# Notice that even if we are calling two threads to increase the value\n",
    "# it's still 1\n",
    "# Because we have a race condition\n",
    "# Because we are reading the local copy before being updated\n",
    "# We can use lock object"
   ],
   "metadata": {
    "collapsed": false,
    "pycharm": {
     "name": "#%%\n"
    }
   }
  },
  {
   "cell_type": "code",
   "execution_count": 31,
   "outputs": [
    {
     "name": "stdout",
     "output_type": "stream",
     "text": [
      "We are in Thread-113 and we got 0\n",
      "We are in Thread-114 and we got 1\n",
      "We are in Thread-115 and we got 2\n",
      "We are in Thread-112 and we got 3\n",
      "We are in Thread-112 and we got 8\n",
      "We are in Thread-113 and we got 5\n",
      "We are in Thread-114 and we got 6\n",
      "We are in Thread-115 and we got 7\n",
      "We are in Thread-115 and we got 12\n",
      "We are in Thread-112 and we got 9\n",
      "We are in Thread-113 and we got 10\n",
      "We are in Thread-114 and we got 11\n",
      "We are in Thread-114 and we got 16\n",
      "We are in Thread-111 and we got 4\n",
      "We are in Thread-111 and we got 18\n",
      "We are in Thread-113 and we got 15\n",
      "We are in Thread-114 and we got 17\n",
      "We are in Thread-115 and we got 13\n",
      "We are in Thread-111 and we got 19\n",
      "We are in Thread-113 and we got 20\n",
      "We are in Thread-112 and we got 14\n"
     ]
    }
   ],
   "source": [
    "# Queues are excellent for multithreading in python\n",
    "# Queues are thread safe\n",
    "from queue import Queue\n",
    "from threading import currentThread\n",
    "\n",
    "q = Queue()\n",
    "num_threads = 5\n",
    "\n",
    "\n",
    "def worker(q, lock):\n",
    "    while True:\n",
    "        # q.get() blocks until there is an available element\n",
    "        value = q.  get()\n",
    "        with lock:\n",
    "            print(f'We are in {currentThread().name} and we got {value}')\n",
    "            # To tell the program that you are done with a queue\n",
    "        q.task_done()\n",
    "\n",
    "lock = Lock()\n",
    "for i in range(num_threads):\n",
    "    t = Thread(target=worker, args=(q,lock))\n",
    "    t.daemon = True\n",
    "    t.start()\n",
    "\n",
    "[q.put(i) for i in range(21)]\n",
    "# To wait for processes in a queue to finish\n",
    "q.join()\n",
    "# A daemon thread dies when main thread dies"
   ],
   "metadata": {
    "collapsed": false,
    "pycharm": {
     "name": "#%%\n"
    }
   }
  },
  {
   "cell_type": "code",
   "execution_count": 29,
   "outputs": [],
   "source": [],
   "metadata": {
    "collapsed": false,
    "pycharm": {
     "name": "#%%\n"
    }
   }
  }
 ],
 "metadata": {
  "kernelspec": {
   "display_name": "Python 3",
   "language": "python",
   "name": "python3"
  },
  "language_info": {
   "codemirror_mode": {
    "name": "ipython",
    "version": 2
   },
   "file_extension": ".py",
   "mimetype": "text/x-python",
   "name": "python",
   "nbconvert_exporter": "python",
   "pygments_lexer": "ipython2",
   "version": "2.7.6"
  }
 },
 "nbformat": 4,
 "nbformat_minor": 0
}